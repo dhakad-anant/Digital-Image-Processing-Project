{
 "cells": [
  {
   "cell_type": "markdown",
   "metadata": {},
   "source": [
    "# **QUESTION 1**"
   ]
  },
  {
   "cell_type": "markdown",
   "metadata": {},
   "source": [
    "Function which return PSNR value of modified image w.r.t original image"
   ]
  },
  {
   "cell_type": "code",
   "execution_count": null,
   "metadata": {},
   "outputs": [],
   "source": [
    "# Importing required libraries\n",
    "import numpy as np\n",
    "\n",
    "def PSNR(original, modified):\n",
    "    R2 = np.amax(original)**2\n",
    "    MSE = np.sum(np.power(np.subtract(original, modified), 2))\n",
    "    MSE /= (original.size[0]*original.size[1])\n",
    "    val = 10*np.log10(R2/MSE)\n",
    "    return val"
   ]
  },
  {
   "cell_type": "code",
   "execution_count": null,
   "metadata": {},
   "outputs": [],
   "source": [
    "# Importing required libraries\n",
    "from PIL import Image\n",
    "import matplotlib.pyplot as plt\n",
    "\n",
    "# Loading Lena.png \n",
    "origLena = Image.open('lena.png')\n",
    "\n",
    "# Converting colored image to grayscale\n",
    "grayLena = origLena.convert('L')\n",
    "# display( grayLena )\n",
    "\n",
    "(x, y) = grayLena.size\n",
    "\n",
    "# scaling down original lena image\n",
    "halfgrayLena = grayLena.resize((x//2, y//2))\n",
    "# display( halfgrayLena )\n",
    "\n",
    "# scaling up using Image.NEAREST\n",
    "img1 = halfgrayLena.resize((x, y), resample=Image.NEAREST)\n",
    "\n",
    "# scaling up using Image.BILINEAR\n",
    "img2 = halfgrayLena.resize((x, y), resample=Image.BILINEAR)\n",
    "\n",
    "# scaling up using Image.BICUBIC\n",
    "img3 = halfgrayLena.resize((x, y), resample=Image.BICUBIC)\n",
    "\n",
    "# PSNR values of modified images\n",
    "psnr1 = PSNR(grayLena, img1)\n",
    "psnr2 = PSNR(grayLena, img2)\n",
    "psnr3 = PSNR(grayLena, img3)\n",
    "\n",
    "\n",
    "# Creates a plot with 1 row and 3 columns and display in the first position\n",
    "plt.figure(figsize = (15, 15))\n",
    "plt.subplot(1, 3, 1)\n",
    "plt.ylabel(\"Nearest Neighbour\")\n",
    "plt.xlabel(psnr1)\n",
    "plt.imshow( img1 , cmap = 'gray' )\n",
    "\n",
    "# Use the second place to display the grayscale image\n",
    "plt.subplot(1, 3, 2)\n",
    "plt.ylabel(\"BILINEAR\")\n",
    "plt.xlabel(psnr2)\n",
    "plt.imshow( img2, cmap = 'gray' )\n",
    "\n",
    "# Use the third place to display the grayscale image in gray map\n",
    "plt.subplot(1, 3, 3)\n",
    "plt.ylabel(\"BICUBIC\")\n",
    "plt.xlabel(psnr3)\n",
    "plt.imshow( img3, cmap = 'gray' )\n"
   ]
  },
  {
   "cell_type": "markdown",
   "metadata": {},
   "source": [
    "# **QUESTION 2**"
   ]
  },
  {
   "cell_type": "markdown",
   "metadata": {},
   "source": [
    "1. \"ImNegative\" function takes an image as input and returns the corresponding photographic negative image as an output."
   ]
  },
  {
   "cell_type": "code",
   "execution_count": null,
   "metadata": {},
   "outputs": [],
   "source": [
    "from PIL import ImageOps\n",
    "\n",
    "def ImNegative(original):\n",
    "    negative = ImageOps.invert(original)\n",
    "    return negative\n",
    "\n",
    "# def ImNegative(original):\n",
    "#     negative = original.copy()\n",
    "#     for r in range(original.size[0]):\n",
    "#         for c in range(original.size[1]):\n",
    "#             neg = abs(original.getpixel((r, c)) - 255)\n",
    "#             negative.putpixel((r, c), neg)\n",
    "#     return negative"
   ]
  },
  {
   "cell_type": "markdown",
   "metadata": {},
   "source": [
    "Converting Lena.png into grayscale image. And further converting that grayscale into Photographic negative."
   ]
  },
  {
   "cell_type": "code",
   "execution_count": null,
   "metadata": {},
   "outputs": [],
   "source": [
    "import matplotlib.pyplot as plt\n",
    "\n",
    "# Loading lena.png\n",
    "origLena = Image.open('lena.png')\n",
    "\n",
    "# Converting colored image to grayscale.\n",
    "grayLena = origLena.convert('L')\n",
    "\n",
    "# Photographic Negative of grayscale lena.\n",
    "negLena = ImNegative(grayLena)\n",
    "\n",
    "# Creates a plot with 1 row and 2 columns and display in the first position\n",
    "plt.figure( figsize= (10, 10))\n",
    "\n",
    "plt.subplot(1, 2, 1)\n",
    "plt.ylabel(\"\")\n",
    "plt.xlabel(\"Negative\")\n",
    "plt.imshow( negLena , cmap = 'gray' )\n",
    "\n",
    "# Use the second place to display the grayscale image\n",
    "plt.subplot(1, 2, 2)\n",
    "plt.ylabel(\"\")\n",
    "plt.xlabel(\"Grayscale\")\n",
    "plt.imshow( grayLena , cmap = 'gray' )"
   ]
  },
  {
   "cell_type": "markdown",
   "metadata": {},
   "source": [
    "# **QUESTION 3**"
   ]
  },
  {
   "cell_type": "markdown",
   "metadata": {},
   "source": [
    "Defining ChSwap function that takes color image as input and returns the corresponding output image, in which the R, G, B channels are swapped. (B -> R, R -> G, G -> B)"
   ]
  },
  {
   "cell_type": "code",
   "execution_count": null,
   "metadata": {},
   "outputs": [],
   "source": [
    "def ChSwap(original):\n",
    "    swapped = original.copy()\n",
    "    for r in range(swapped.size[0]):\n",
    "        for c in range(swapped.size[1]):\n",
    "            (Red, Green, Blue) = original.getpixel((r, c))\n",
    "            (outRed, outGreen, outBlue) = (Blue, Red, Green)\n",
    "            swapped.putpixel((r, c), (outRed, outGreen, outBlue))\n",
    "    return swapped"
   ]
  },
  {
   "cell_type": "code",
   "execution_count": null,
   "metadata": {},
   "outputs": [],
   "source": [
    "# Loading Lena.png\n",
    "origLena = Image.open('lena.png')\n",
    "\n",
    "# Swapping R,G,B channels of original image\n",
    "swappedLena = ChSwap(origLena)\n",
    "\n",
    "# Creates a plot with 1 row and 2 columns and display in the first position\n",
    "plt.figure( figsize= (10, 10))\n",
    "\n",
    "plt.subplot(1, 2, 1)\n",
    "plt.ylabel(\"\")\n",
    "plt.xlabel(\"SwappedLena\")\n",
    "plt.imshow( swappedLena)\n",
    "\n",
    "# Use the second place to display the swapped image\n",
    "plt.subplot(1, 2, 2)\n",
    "plt.ylabel(\"\")\n",
    "plt.xlabel(\"Original\")\n",
    "plt.imshow( origLena)"
   ]
  }
 ],
 "metadata": {
  "interpreter": {
   "hash": "61ddf0d45a5586965624109b5eae341e1a3c90a3a3e7b1d4cd094f1861f3d9d6"
  },
  "kernelspec": {
   "display_name": "Python 3.9.4 64-bit",
   "name": "python3"
  },
  "language_info": {
   "codemirror_mode": {
    "name": "ipython",
    "version": 3
   },
   "file_extension": ".py",
   "mimetype": "text/x-python",
   "name": "python",
   "nbconvert_exporter": "python",
   "pygments_lexer": "ipython3",
   "version": "3.9.4"
  },
  "orig_nbformat": 4
 },
 "nbformat": 4,
 "nbformat_minor": 2
}
