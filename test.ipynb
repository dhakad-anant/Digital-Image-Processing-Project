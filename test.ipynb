{
 "cells": [
  {
   "cell_type": "code",
   "execution_count": null,
   "metadata": {},
   "outputs": [],
   "source": [
    "from scipy import special\n",
    "import matplotlib.pyplot as plt\n",
    "import numpy as np\n",
    "from PIL import Image, ImageFilter"
   ]
  },
  {
   "cell_type": "code",
   "execution_count": null,
   "metadata": {},
   "outputs": [],
   "source": [
    "def gaussian(x, y, sigma):\n",
    "    return np.exp(-(x**2 + y**2) / (2 * sigma ** 2))"
   ]
  },
  {
   "cell_type": "code",
   "execution_count": null,
   "metadata": {},
   "outputs": [],
   "source": [
    "hermitepoly = special.hermite(3, monic=False)"
   ]
  },
  {
   "cell_type": "code",
   "execution_count": null,
   "metadata": {},
   "outputs": [],
   "source": [
    "origLena = Image.open('lena.png')\n",
    "origLena = origLena.convert('L')"
   ]
  },
  {
   "cell_type": "code",
   "execution_count": null,
   "metadata": {},
   "outputs": [],
   "source": [
    "# gausRes = gaussian(origLena)\n",
    "\n",
    "# plt.figure(figsize = (10, 10))\n",
    "# plt.subplot(1, 1, 1)\n",
    "# plt.imshow( gausRes, cmap = 'gray' )\n",
    "\n",
    "local = origLena.copy()\n",
    "local = local.filter(ImageFilter.GaussianBlur)\n",
    "plt.figure(figsize = (7, 7))\n",
    "plt.subplot(1, 1, 1)\n",
    "plt.imshow( local, cmap = 'gray' )"
   ]
  },
  {
   "cell_type": "code",
   "execution_count": null,
   "metadata": {},
   "outputs": [],
   "source": [
    "\n",
    "nparr = np.array(origLena)\n",
    "# print(nparr)\n",
    "\n",
    "# applying hermite polynomial\n",
    "# hermiRes = hermitepoly(nparr)\n",
    "# print(type(hermiRes))\n",
    "# print(hermiRes.shape)\n",
    "\n",
    "# row, col = nparr.shape \n",
    "row, col = nparr.shape[0], nparr.shape[1]\n",
    "\n",
    "resImg = np.zeros((row, col))\n",
    "\n",
    "for i in range(row):\n",
    "    for j in range(col):\n",
    "        \n",
    "        # resImg[i][j] = hermiRes[i][j]* gaussian(i, j, 1)\n",
    "        resImg[i][j] = hermitepoly(nparr[i][j])* gaussian(i, j, 10)\n",
    "    \n",
    "plt.figure(figsize = (10, 10))\n",
    "plt.subplot(1, 1, 1)\n",
    "plt.imshow( np.log(1+np.abs(resImg)), cmap = 'gray' )\n",
    "# plt.imshow( resImg, cmap = 'gray' )\n",
    "\n",
    "[\n",
    "    [1, 2, 1],\n",
    "    [1, 8, 1],\n",
    "    [1, 2, 1],\n",
    "]"
   ]
  }
 ],
 "metadata": {
  "interpreter": {
   "hash": "61ddf0d45a5586965624109b5eae341e1a3c90a3a3e7b1d4cd094f1861f3d9d6"
  },
  "kernelspec": {
   "display_name": "Python 3.9.4 64-bit",
   "language": "python",
   "name": "python3"
  },
  "language_info": {
   "codemirror_mode": {
    "name": "ipython",
    "version": 3
   },
   "file_extension": ".py",
   "mimetype": "text/x-python",
   "name": "python",
   "nbconvert_exporter": "python",
   "pygments_lexer": "ipython3",
   "version": "3.9.4"
  },
  "orig_nbformat": 4
 },
 "nbformat": 4,
 "nbformat_minor": 2
}
